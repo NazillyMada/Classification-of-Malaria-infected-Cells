{
  "nbformat": 4,
  "nbformat_minor": 0,
  "metadata": {
    "colab": {
      "name": "trainCNN-ComplexCNN.ipynb",
      "provenance": [],
      "collapsed_sections": []
    },
    "kernelspec": {
      "name": "python3",
      "display_name": "Python 3"
    },
    "accelerator": "GPU"
  },
  "cells": [
    {
      "cell_type": "markdown",
      "metadata": {
        "id": "r6DQJw2UB4o1"
      },
      "source": [
        "# Load The Data"
      ]
    },
    {
      "cell_type": "code",
      "metadata": {
        "id": "csLRQ1LnJx45"
      },
      "source": [
        "%cd '/content/drive/My Drive/Colab_Notebooks/'"
      ],
      "execution_count": null,
      "outputs": []
    },
    {
      "cell_type": "code",
      "metadata": {
        "id": "ss6UzPi-fL9K"
      },
      "source": [
        "%ls"
      ],
      "execution_count": null,
      "outputs": []
    },
    {
      "cell_type": "code",
      "metadata": {
        "id": "zevNSNDxfOiL"
      },
      "source": [
        "!unzip 'cell_images.zip'"
      ],
      "execution_count": null,
      "outputs": []
    },
    {
      "cell_type": "code",
      "metadata": {
        "id": "Z1g7RvUy3Dyq"
      },
      "source": [
        "import cv2\n",
        "import matplotlib.pyplot as plt \n",
        "import seaborn as sns\n",
        "import os\n",
        "import tensorflow as tf\n",
        "import numpy as np\n",
        "import datetime\n",
        "import itertools\n",
        "from tensorflow.keras.preprocessing import image\n",
        "from keras.preprocessing.image import ImageDataGenerator\n",
        "from keras.preprocessing.image import img_to_array\n",
        "from keras.preprocessing.image import load_img\n",
        "from tensorflow.keras.utils import to_categorical\n",
        "from tensorflow.keras.models import Sequential\n",
        "from tensorflow.keras.layers import Conv2D, MaxPooling2D, Dense, Flatten, Activation, BatchNormalization, Dropout\n",
        "from tensorflow.keras.optimizers import Adam,SGD\n",
        "from keras.callbacks import ModelCheckpoint,EarlyStopping\n",
        "from tensorflow.keras.callbacks import TensorBoard\n",
        "from keras.models import load_model\n",
        "from sklearn.metrics import confusion_matrix,classification_report,f1_score, precision_score, recall_score"
      ],
      "execution_count": null,
      "outputs": []
    },
    {
      "cell_type": "code",
      "metadata": {
        "id": "dk1Bsgl89v73"
      },
      "source": [
        "parasitized = os.listdir('/content/drive/My Drive/Colab_Notebooks/cell_images/Parasitized/')\n",
        "print(parasitized[:5])\n",
        "\n",
        "uninfected = os.listdir('/content/drive/My Drive/Colab_Notebooks/cell_images/Uninfected/')\n",
        "print(uninfected[:5])"
      ],
      "execution_count": null,
      "outputs": []
    },
    {
      "cell_type": "code",
      "metadata": {
        "id": "iJ95yqAh-PdR"
      },
      "source": [
        "#visualitation\n",
        "plt.figure(figsize = (20,20))\n",
        "for i in range(10):\n",
        "    plt.subplot(2, 5, i+1)\n",
        "    img = cv2.imread('/content/drive/My Drive/Colab_Notebooks/cell_images/Parasitized' + \"/\" + parasitized[i])\n",
        "    plt.imshow(img)\n",
        "    plt.title('PARASITIZED : 1')\n",
        "    plt.tight_layout()\n",
        "plt.show()"
      ],
      "execution_count": null,
      "outputs": []
    },
    {
      "cell_type": "code",
      "metadata": {
        "id": "AUrpVS5_-rCp"
      },
      "source": [
        "#visualitation\n",
        "plt.figure(figsize = (20,20))\n",
        "for i in range(10):\n",
        "    plt.subplot(2, 5, i+1)\n",
        "    img = cv2.imread('/content/drive/My Drive/Colab_Notebooks/cell_images/Uninfected' + \"/\" + uninfected[i])\n",
        "    plt.imshow(img)\n",
        "    plt.title('UNINFECTED : 0')\n",
        "    plt.tight_layout()\n",
        "plt.show()"
      ],
      "execution_count": null,
      "outputs": []
    },
    {
      "cell_type": "markdown",
      "metadata": {
        "id": "h95FsipFCCPw"
      },
      "source": [
        "## Load images to array and labelling"
      ]
    },
    {
      "cell_type": "code",
      "metadata": {
        "id": "N1euxdZSAKNg"
      },
      "source": [
        "data=[]\n",
        "labels=[]\n",
        "\n",
        "for img in parasitized:\n",
        "  try:\n",
        "    image=plt.imread('/content/drive/My Drive/Colab_Notebooks/cell_images/Parasitized/'+img)\n",
        "    image_resize = cv2.resize(image,(44,44))\n",
        "    img_array = img_to_array(image_resize)\n",
        "    data.append(img_array)\n",
        "    labels.append(1)\n",
        "  except:\n",
        "    None\n",
        "\n",
        "for img in uninfected:\n",
        "  try:\n",
        "    image=plt.imread('/content/drive/My Drive/Colab_Notebooks/cell_images/Uninfected/'+img)\n",
        "    image_resize = cv2.resize(image,(44,44))\n",
        "    img_array = img_to_array(image_resize)\n",
        "    data.append(img_array)\n",
        "    labels.append(0)\n",
        "  except:\n",
        "    None\n",
        "\n",
        "plt.imshow(data[100])\n",
        "plt.show()                    "
      ],
      "execution_count": null,
      "outputs": []
    },
    {
      "cell_type": "code",
      "metadata": {
        "id": "fbhudWYJQNLj"
      },
      "source": [
        "print(len(data))\n",
        "print(len(labels))"
      ],
      "execution_count": null,
      "outputs": []
    },
    {
      "cell_type": "markdown",
      "metadata": {
        "id": "3q6-1jxlCOVo"
      },
      "source": [
        "## Split Data 90:10 ratio"
      ]
    },
    {
      "cell_type": "code",
      "metadata": {
        "id": "boHVfKKbECjk"
      },
      "source": [
        "image_data = np.array(data)\n",
        "labels = np.array(labels)"
      ],
      "execution_count": null,
      "outputs": []
    },
    {
      "cell_type": "code",
      "metadata": {
        "id": "c-VTdoXTFWFb"
      },
      "source": [
        "idx = np.arange(image_data.shape[0])\n",
        "np.random.shuffle(idx)\n",
        "image_data = image_data[idx]\n",
        "labels = labels[idx]"
      ],
      "execution_count": null,
      "outputs": []
    },
    {
      "cell_type": "code",
      "metadata": {
        "id": "26EN-QjgFjP4"
      },
      "source": [
        "from sklearn.model_selection import train_test_split\n",
        "feature_train, feature_test, label_train, label_test = train_test_split(image_data, labels, test_size = 0.10, random_state = 10)\n",
        "\n",
        "label_train = to_categorical(label_train)\n",
        "label_test = to_categorical(label_test)\n",
        "\n",
        "print(f'SHAPE OF TRAINING IMAGE DATA : {feature_train.shape}')\n",
        "print(f'SHAPE OF TESTING IMAGE DATA : {feature_test.shape}')\n",
        "print(f'SHAPE OF TRAINING LABELS : {label_train.shape}')\n",
        "print(f'SHAPE OF TESTING LABELS : {label_test.shape}')"
      ],
      "execution_count": null,
      "outputs": []
    },
    {
      "cell_type": "markdown",
      "metadata": {
        "id": "G568f_PNCYyi"
      },
      "source": [
        "# Build The CNN Net"
      ]
    },
    {
      "cell_type": "code",
      "metadata": {
        "id": "8hBxIvwiGnJ6"
      },
      "source": [
        "model= Sequential()\n",
        "\n",
        "model.add(Conv2D(filters=32,kernel_size=(5,5),strides=1,input_shape = (44,44,3)))\n",
        "model.add(Activation('relu'))\n",
        "model.add(Conv2D(filters=32,kernel_size=(5,5),strides=1))\n",
        "model.add(Activation('relu'))\n",
        "model.add(MaxPooling2D(pool_size=(5,5),strides=2))\n",
        "model2.add(BatchNormalization(axis=-1))\n",
        "model2.add(Dropout(0.5))\n",
        "\n",
        "model.add(Conv2D(filters=64,kernel_size=(5,5),strides=1))\n",
        "model.add(Activation('relu'))\n",
        "model.add(Conv2D(filters=64,kernel_size=(5,5),strides=1))\n",
        "model.add(MaxPooling2D(pool_size=(3,3),strides=2))\n",
        "model2.add(BatchNormalization(axis=-1))\n",
        "model2.add(Dropout(0.5))\n",
        "\n",
        "model.add(Conv2D(filters=128,kernel_size=(5,5),strides=1,padding='same'))\n",
        "model.add(Activation('relu'))\n",
        "model.add(Conv2D(filters=256,kernel_size=(4,4),strides=1,padding='same'))\n",
        "model2.add(BatchNormalization(axis=-1))\n",
        "model2.add(Dropout(0.5))\n",
        "\n",
        "model.add(Flatten())\n",
        "\n",
        "model.add(Dense(units=256,activation='relu'))\n",
        "model.add(Dense(units=256,activation='relu'))\n",
        "model.add(Dense(units=2, activation='softmax'))\n",
        "\n",
        "model.summary()"
      ],
      "execution_count": null,
      "outputs": []
    },
    {
      "cell_type": "markdown",
      "metadata": {
        "id": "nyrWqqWkDHjv"
      },
      "source": [
        "## Visualize the CNN filters and Feature Map"
      ]
    },
    {
      "cell_type": "code",
      "metadata": {
        "id": "8EjJaqsffulH"
      },
      "source": [
        "# summarize filter shapes\n",
        "for layer in model_.layers:\n",
        "\t# check for convolutional layer\n",
        "\tif 'conv' not in layer.name:\n",
        "\t\tcontinue\n",
        "  # get filter weights\n",
        "\tfilters, biases = layer.get_weights()\n",
        "\tprint(layer.name, filters.shape)"
      ],
      "execution_count": null,
      "outputs": []
    },
    {
      "cell_type": "code",
      "metadata": {
        "id": "Gzy9Bol4gUBc"
      },
      "source": [
        "filters, biases = model_.layers[2].get_weights()\n",
        "# normalize filter values to 0-1 so we can visualize them\n",
        "f_min, f_max = filters.min(), filters.max()\n",
        "filters = (filters - f_min) / (f_max - f_min)\n",
        "# plot first few filters\n",
        "n_filters, ix = 6, 1\n",
        "for i in range(n_filters):\n",
        "\t# get the filter\n",
        "\tf = filters[:, :, :, i]\n",
        "\t# plot each channel separately\n",
        "\tfor j in range(3):\n",
        "\t\t# specify subplot and turn of axis\n",
        "\t\tax = plt.subplot(n_filters, 3, ix)\n",
        "\t\tax.set_xticks([])\n",
        "\t\tax.set_yticks([])\n",
        "\t\t# plot filter channel in grayscale\n",
        "\t\tplt.imshow(f[:, :, j], cmap='gray')\n",
        "\t\tix += 1\n",
        "# show the figure\n",
        "plt.show()"
      ],
      "execution_count": null,
      "outputs": []
    },
    {
      "cell_type": "code",
      "metadata": {
        "id": "xbHtor4DR1uy"
      },
      "source": [
        "from keras.models import Model\n",
        "layer_outputs = [layer.output for layer in model_.layers]\n",
        "activation_model = Model(inputs=model_.input, outputs=layer_outputs)\n",
        "activations = activation_model.predict(feature_train[1557].reshape(1,44,44,3))\n",
        " \n",
        "def display_activation(activations, col_size, row_size, act_index): \n",
        "    activation = activations[act_index]\n",
        "    activation_index=0\n",
        "    fig, ax = plt.subplots(row_size, col_size, figsize=(row_size*2.5,col_size*1.5))\n",
        "    for row in range(0,row_size):\n",
        "        for col in range(0,col_size):\n",
        "            ax[row][col].imshow(activation[0, :, :, activation_index], cmap='gray')\n",
        "            activation_index += 1"
      ],
      "execution_count": null,
      "outputs": []
    },
    {
      "cell_type": "code",
      "metadata": {
        "id": "JTpzqGjoSEOE"
      },
      "source": [
        "plt.imshow(feature_train[1557][:,:,0]);"
      ],
      "execution_count": null,
      "outputs": []
    },
    {
      "cell_type": "code",
      "metadata": {
        "id": "iMlHpTqfSJPF"
      },
      "source": [
        "display_activation(activations, 8, 4, 1)"
      ],
      "execution_count": null,
      "outputs": []
    },
    {
      "cell_type": "code",
      "metadata": {
        "id": "ep_i38UzSOX6"
      },
      "source": [
        "display_activation(activations, 8, 8, 2)"
      ],
      "execution_count": null,
      "outputs": []
    },
    {
      "cell_type": "markdown",
      "metadata": {
        "id": "P6zQBgRYChzn"
      },
      "source": [
        "## Setting up Callbacks"
      ]
    },
    {
      "cell_type": "code",
      "metadata": {
        "id": "ZeWLUKelIKba"
      },
      "source": [
        "filepath='weights.h5'\n",
        "my_callbacks = [\n",
        "                tf.keras.callbacks.EarlyStopping(monitor='val_accuracy',patience =10),\n",
        "                tf.keras.callbacks.ModelCheckpoint(filepath , monitor='val_accuracy',verbose=1,save_best_only=True),\n",
        "]\n",
        "\n",
        "logdir = os.path.join(\"logs\", datetime.datetime.now().strftime(\"%Y%m%d-%H%M%S\"))\n",
        "my_callbacks.append(TensorBoard(logdir, histogram_freq=1))\n",
        "\n",
        "print(my_callbacks)"
      ],
      "execution_count": null,
      "outputs": []
    },
    {
      "cell_type": "markdown",
      "metadata": {
        "id": "oS0dsgedCm8A"
      },
      "source": [
        "## Start Training"
      ]
    },
    {
      "cell_type": "code",
      "metadata": {
        "id": "ttkLIDLCIOlY"
      },
      "source": [
        "model.compile(optimizer=opt, loss='categorical_crossentropy', metrics=['accuracy'])\n",
        "history = model.fit(feature_train,label_train, validation_data=(feature_test,label_test), callbacks = my_callbacks, epochs=100,verbose=1)"
      ],
      "execution_count": null,
      "outputs": []
    },
    {
      "cell_type": "markdown",
      "metadata": {
        "id": "FbkyKOZDCuAq"
      },
      "source": [
        "#Load Tensorboard"
      ]
    },
    {
      "cell_type": "code",
      "metadata": {
        "id": "EstSB0ZTzXI1"
      },
      "source": [
        "%load_ext tensorboard\n",
        "%tensorboard --logdir '/content/drive/My Drive/Colab_Notebooks/baru/logs1'"
      ],
      "execution_count": null,
      "outputs": []
    },
    {
      "cell_type": "markdown",
      "metadata": {
        "id": "VlEIMqw9C2Gq"
      },
      "source": [
        "# Evaluate the model"
      ]
    },
    {
      "cell_type": "code",
      "metadata": {
        "id": "IMxfvDMpv5WQ"
      },
      "source": [
        "model_ = load_model('/content/drive/My Drive/Colab_Notebooks/weights.h5')"
      ],
      "execution_count": null,
      "outputs": []
    },
    {
      "cell_type": "code",
      "metadata": {
        "id": "5XGNkv3iwT3Y"
      },
      "source": [
        "model_.summary()"
      ],
      "execution_count": null,
      "outputs": []
    },
    {
      "cell_type": "code",
      "metadata": {
        "id": "9VZKxafUGe3n"
      },
      "source": [
        "loss, accuracy = model_.evaluate(feature_test,label_test, verbose=1)\n",
        "\n",
        "print(\"Test accuracy:\", accuracy)\n",
        "print(\"Test loss:\", loss)"
      ],
      "execution_count": null,
      "outputs": []
    },
    {
      "cell_type": "code",
      "metadata": {
        "id": "tnMEzNadHAIF"
      },
      "source": [
        "predictions = model_.predict(feature_test)\n",
        "print(np.round(predictions))\n",
        "print(classification_report(np.argmax(label_test, axis = 1), np.argmax(predictions, axis = 1)))\n",
        "cm = confusion_matrix(np.argmax(label_test, axis = 1), np.argmax(predictions, axis = 1))\n",
        "\n",
        "print('F1_score   on test set: {:.4f}'.format(f1_score(np.argmax(label_test, axis = 1), np.argmax(predictions, axis = 1), average=\"macro\")))\n",
        "\n",
        "print('Precision  on test set: {:.4f}'.format(precision_score(np.argmax(label_test, axis = 1), np.argmax(predictions, axis = 1), average=\"macro\")))\n",
        "\n",
        "print('Recall     on test set: {:.4f}'.format(recall_score(np.argmax(label_test, axis = 1), np.argmax(predictions, axis = 1), average=\"macro\")))"
      ],
      "execution_count": null,
      "outputs": []
    },
    {
      "cell_type": "code",
      "metadata": {
        "id": "3AN7UNWgMuEK"
      },
      "source": [
        "def plot_confusion_matrix(cm,classes,normalize=False, title='Confusion Matrix', cmap=plt.cm.Blues):\n",
        "  plt.imshow(cm,interpolation='nearest',cmap=cmap)\n",
        "  plt.title(title)\n",
        "  plt.colorbar()\n",
        "  tick_marks = np.arange(len(classes))\n",
        "  plt.xticks(tick_marks, classes, rotation=45)\n",
        "  plt.yticks(tick_marks, classes)\n",
        "\n",
        "  if normalize:\n",
        "    cm = cm.astype('float')/cm.sum(axis=1)[:, np.newaxis]\n",
        "    print(\"normalized confusion matrix\")\n",
        "  else:\n",
        "    print(\"Confusion Matrix\")\n",
        "  \n",
        "  print(cm)\n",
        "  thresh = cm.max()/2.\n",
        "  for i,j in itertools.product(range(cm.shape[0]), range(cm.shape[1])):\n",
        "    plt.text(j, i, cm[i,j], horizontalalignment=\"center\",color=\"white\" if cm[i,j]>thresh else \"black\")\n",
        "  \n",
        "\n",
        "  plt.tight_layout()\n",
        "  plt.ylabel('True Label')\n",
        "  plt.xlabel('Predicted Label')\n",
        "\n",
        "\n",
        "cm_plot_labels = ['Uninfected','Parasitized']\n",
        "plot_confusion_matrix(cm=cm, classes=cm_plot_labels,title='Confusion Matrix')"
      ],
      "execution_count": null,
      "outputs": []
    },
    {
      "cell_type": "markdown",
      "metadata": {
        "id": "yhtgT-0cC-cn"
      },
      "source": [
        "## Test to one Image"
      ]
    },
    {
      "cell_type": "code",
      "metadata": {
        "id": "SClVBd0sOVBx"
      },
      "source": [
        "testing_path=\"/content/drive/My Drive/Colab_Notebooks/cell_images/Parasitized/C100P61ThinF_IMG_20150918_144348_cell_143.png\"\n",
        "img= image.load_img(testing_path,target_size=(44,44))\n",
        "plt.imshow(img)\n",
        "\n",
        "x=image.img_to_array(img)\n",
        "x=np.expand_dims(x,axis=0)\n",
        "images=np.vstack([x])\n",
        "val=model_.predict(images)\n",
        "result = np.argmax(val[0]).tolist()\n",
        "print('Class : '+str(result))"
      ],
      "execution_count": null,
      "outputs": []
    }
  ]
}